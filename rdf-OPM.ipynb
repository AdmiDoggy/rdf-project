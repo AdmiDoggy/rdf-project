{
 "cells": [
  {
   "cell_type": "markdown",
   "id": "d6b8b456",
   "metadata": {},
   "source": [
    "# ONE PUNCH MAN"
   ]
  },
  {
   "cell_type": "code",
   "execution_count": 7,
   "id": "df22a43d",
   "metadata": {
    "scrolled": true
   },
   "outputs": [
    {
     "name": "stdout",
     "output_type": "stream",
     "text": [
      "Requirement already satisfied: rdflib in c:\\programdata\\miniconda3\\lib\\site-packages (5.0.0)\n",
      "Requirement already satisfied: six in c:\\programdata\\miniconda3\\lib\\site-packages (from rdflib) (1.15.0)\n",
      "Requirement already satisfied: pyparsing in c:\\programdata\\miniconda3\\lib\\site-packages (from rdflib) (2.4.7)\n",
      "Requirement already satisfied: isodate in c:\\programdata\\miniconda3\\lib\\site-packages (from rdflib) (0.6.0)\n"
     ]
    }
   ],
   "source": [
    "!pip install rdflib"
   ]
  },
  {
   "cell_type": "code",
   "execution_count": 8,
   "id": "73823a89",
   "metadata": {},
   "outputs": [],
   "source": [
    "from rdflib import URIRef, BNode, Literal, Graph\n",
    "from rdflib import Namespace\n",
    "from rdflib.namespace import RDF, RDFS"
   ]
  },
  {
   "cell_type": "markdown",
   "id": "137210ce",
   "metadata": {},
   "source": [
    "# Modelado del Grafo"
   ]
  },
  {
   "cell_type": "markdown",
   "id": "707174ef",
   "metadata": {},
   "source": [
    "Ingresando URIs de los sujetos"
   ]
  },
  {
   "cell_type": "code",
   "execution_count": 9,
   "id": "5640e20a",
   "metadata": {},
   "outputs": [],
   "source": [
    "#####Heroes\n",
    "\n",
    "##Clase S\n",
    "blast = URIRef('https://onepunchman.fandom.com/es/wiki/Blast')\n",
    "tatsumaki = URIRef('https://onepunchman.fandom.com/es/wiki/Tatsumaki')\n",
    "bang = URIRef('https://onepunchman.fandom.com/es/wiki/Bang')\n",
    "kamikaze = URIRef('https://onepunchman.fandom.com/es/wiki/Kamikaze')\n",
    "kidEmperor = URIRef('https://onepunchman.fandom.com/es/wiki/Kid_Emperor')\n",
    "metalKnight = URIRef('https://onepunchman.fandom.com/es/wiki/Bofoi')\n",
    "king = URIRef('https://onepunchman.fandom.com/es/wiki/King')\n",
    "zombieman = URIRef('https://onepunchman.fandom.com/es/wiki/Zombieman')\n",
    "driveKnight = URIRef('https://onepunchman.fandom.com/es/wiki/Drive_Knight')\n",
    "pigGod = URIRef('https://onepunchman.fandom.com/es/wiki/Pig_God')\n",
    "darkshine = URIRef('https://onepunchman.fandom.com/es/wiki/Superalloy_Darkshine')\n",
    "watchdog = URIRef('https://onepunchman.fandom.com/es/wiki/Watchdog_Man')\n",
    "flashy = URIRef('https://onepunchman.fandom.com/es/wiki/Flashy_Flash')\n",
    "genos = URIRef('https://onepunchman.fandom.com/es/wiki/Genos')\n",
    "bad = URIRef('https://onepunchman.fandom.com/es/wiki/Bad')\n",
    "tanktop = URIRef('https://onepunchman.fandom.com/es/wiki/Tanktop_Master')\n",
    "lindolindo = URIRef('https://onepunchman.fandom.com/es/wiki/Prisionero_Lindo-Lindo')\n",
    "\n",
    "##Clase A\n",
    "amai = URIRef('https://onepunchman.fandom.com/es/wiki/Amai_Mask')\n",
    "iaian = URIRef('https://onepunchman.fandom.com/es/wiki/Iaian')\n",
    "bushidrill = URIRef('https://onepunchman.fandom.com/es/wiki/Bushidrill')\n",
    "fundoshi = URIRef('https://onepunchman.fandom.com/es/wiki/Heavy_Tank_Fundoshi')\n",
    "blueFire = URIRef('https://onepunchman.fandom.com/es/wiki/Blue_Fire')\n",
    "gatling = URIRef('https://onepunchman.fandom.com/es/wiki/Death_Gatling')\n",
    "stinger = URIRef('https://onepunchman.fandom.com/es/wiki/Stinger')\n",
    "twinTail = URIRef('https://onepunchman.fandom.com/es/wiki/Twin_Tail')\n",
    "filosofo = URIRef('https://onepunchman.fandom.com/es/wiki/Gran_Filósofo')\n",
    "butterfly = URIRef('https://onepunchman.fandom.com/es/wiki/Butterfly_DX')\n",
    "genji = URIRef('https://onepunchman.fandom.com/es/wiki/Genji')\n",
    "maxx = URIRef('https://onepunchman.fandom.com/es/wiki/Max')\n",
    "oneShooter = URIRef('https://onepunchman.fandom.com/es/wiki/One_Shooter')\n",
    "green = URIRef('https://onepunchman.fandom.com/es/wiki/Green')\n",
    "eyebroll = URIRef('https://onepunchman.fandom.com/es/wiki/Crescent_Eyebroll')\n",
    "\n",
    "##Clase B\n",
    "fubuki = URIRef('https://onepunchman.fandom.com/es/wiki/Fubuki')\n",
    "pestañas = URIRef('https://onepunchman.fandom.com/es/wiki/Pestañas')\n",
    "mono = URIRef('https://onepunchman.fandom.com/es/wiki/Mono_de_Montaña')\n",
    "saitama = URIRef('https://onepunchman.fandom.com/es/wiki/Saitama')\n",
    "wildHorn = URIRef('https://onepunchman.fandom.com/es/wiki/Wild_Horn')\n",
    "gafas = URIRef('https://onepunchman.fandom.com/es/wiki/Gafas')\n",
    "avispon = URIRef('https://onepunchman.fandom.com/es/wiki/Avispón_Rosa')\n",
    "smellMaster = URIRef('https://onepunchman.fandom.com/es/wiki/Smell_Master')\n",
    "reclusamurai = URIRef('https://onepunchman.fandom.com/es/wiki/Reclusamurai')\n",
    "gungun = URIRef('https://onepunchman.fandom.com/es/wiki/Gun_Gun')\n",
    "carnicero = URIRef('https://onepunchman.fandom.com/es/wiki/Carnicero')\n",
    "niceGuy = URIRef('https://onepunchman.fandom.com/es/wiki/Jet_Nice_Guy')\n",
    "cuchillaOscura = URIRef('https://onepunchman.fandom.com/es/wiki/Cuchilla_Oscura')\n",
    "needleStar = URIRef('https://onepunchman.fandom.com/es/wiki/Needle_Star')\n",
    "piko = URIRef('https://onepunchman.fandom.com/es/wiki/Piko')\n",
    "\n",
    "##Clase C\n",
    "satoru = URIRef('https://onepunchman.fandom.com/es/wiki/Satoru')\n",
    "biningShell = URIRef('https://onepunchman.fandom.com/es/wiki/Strange_Binding_Shell')\n",
    "tiger = URIRef('https://onepunchman.fandom.com/es/wiki/Tanktop_Tiger')\n",
    "dPad = URIRef('https://onepunchman.fandom.com/es/wiki/D-Pad')\n",
    "tirantes = URIRef('https://onepunchman.fandom.com/es/wiki/Tirantes_Fúnebres')\n",
    "luchadorComida = URIRef('https://onepunchman.fandom.com/es/wiki/Luchador_de_Comida_Futoshi')\n",
    "hombreBateria = URIRef('https://onepunchman.fandom.com/es/wiki/Hombre_Batería')\n",
    "redMuffler = URIRef('https://onepunchman.fandom.com/es/wiki/Red_Muffler')\n",
    "recepcionista = URIRef('https://onepunchman.fandom.com/es/wiki/Recepcionista_Blindado')\n",
    "gearsper = URIRef('https://onepunchman.fandom.com/es/wiki/Gearsper')\n",
    "vaquero = URIRef('https://onepunchman.fandom.com/es/wiki/Vaquero_con_Máscara_de_Gas')\n",
    "octavaTumba = URIRef('https://onepunchman.fandom.com/es/wiki/Octava_Tumba')\n",
    "ecoloG = URIRef('https://onepunchman.fandom.com/es/wiki/Ecolo_G')\n",
    "monocross = URIRef('https://onepunchman.fandom.com/es/wiki/Monocross')\n",
    "hombreDinamita = URIRef('https://onepunchman.fandom.com/es/wiki/Hombre_Dinamita')"
    "#####Asociación de Monstruos\n",
    "\n",
	"###Superiores\n",
	"##Líderes\n",
	"Psykos = URIRef('https://onepunchman.fandom.com/es/wiki/Psykos')\n",
	"Orochi = URIRef('https://onepunchman.fandom.com/es/wiki/Orochi')\n",
	"#Ejecutivos\n",
	"Agua Natural Malvada = URIRef('https://onepunchman.fandom.com/es/wiki/Agua_Natural_Malvada')\n",
	"Black Sperm = URIRef('https://onepunchman.fandom.com/es/wiki/Black_Sperm')\n",
	"Ciempiés Anciano = URIRef('https://onepunchman.fandom.com/es/wiki/Ciempiés_Anciano')\n",
	"Emperador sin Hogar = URIRef('https://onepunchman.fandom.com/es/wiki/Emperador_sin_Hogar')\n",
	"Encias = URIRef('https://onepunchman.fandom.com/es/wiki/Encias')\n",
	"Fuhrer Ugly = URIRef('https://onepunchman.fandom.com/es/wiki/Fuhrer_Ugly')\n",
	"Gouketsu = URIRef('https://onepunchman.fandom.com/es/wiki/Gouketsu')\n",
	"Nyan = URIRef('https://onepunchman.fandom.com/es/wiki/Nyan')\n",
	"Overgrown Rover = URIRef('https://onepunchman.fandom.com/es/wiki/Overgrown_Rover')\n",
	"###Subordinados\n",
	"##Nivel Dragon\n",
	"Bakuzan = URIRef('https://onepunchman.fandom.com/es/wiki/Bakuzan')\n",
	"Gale Wind = URIRef('https://onepunchman.fandom.com/es/wiki/Gale_Wind')\n",
	"Hellfire Flame = URIRef('https://onepunchman.fandom.com/es/wiki/Hellfire_Flame')\n",
	"Phoenix Man = URIRef('https://onepunchman.fandom.com/es/wiki/Phoenix_Man')\n",
	"##Nivel Ogro\n",
	"Abrazador Gratuito = URIRef('https://onepunchman.fandom.com/es/wiki/Abrazador_Gratuito')\n",
	"Bakuma = URIRef('https://onepunchman.fandom.com/es/wiki/Bakuma')\n",
	"Dios Insecto = URIRef('https://onepunchman.fandom.com/es/wiki/Dios_Insecto')\n",
	"Cabello Largo Demoniaco = URIRef('https://onepunchman.fandom.com/es/wiki/Cabello_Largo_Demoniaco')\n",
	"Ciempiés Mayor = URIRef('https://onepunchman.fandom.com/es/wiki/Ciempiés_Mayor')\n",
	"Cucaracha Avispada = URIRef('https://onepunchman.fandom.com/es/wiki/Cucaracha_Avispada')\n",
	"Do-S = URIRef('https://onepunchman.fandom.com/es/wiki/Do-S')\n",
	"Eyesight = URIRef('https://onepunchman.fandom.com/es/wiki/Eyesight')\n",
	"Fist Fight Djinn = URIRef('https://onepunchman.fandom.com/es/wiki/Fist_Fight_Djinn')\n",
	"G5 = URIRef('https://onepunchman.fandom.com/es/wiki/G5')\n",
	"The Great Food Tub = URIRef('https://onepunchman.fandom.com/es/wiki/The_Great_Food_Tub')\n",
	"Pulpo de Cien Ojos = URIRef('https://onepunchman.fandom.com/es/wiki/Pulpo_de_Cien_Ojos')\n",
	"Rafflesidon = URIRef('https://onepunchman.fandom.com/es/wiki/Rafflesidon')\n",
	"Rhino Wrestler= URIRef('https://onepunchman.fandom.com/es/wiki/Rhino_Wrestler')\n",
	"Royal Ripper = URIRef('https://onepunchman.fandom.com/es/wiki/Royal_Ripper')\n",
	"Sangre Pura = URIRef('https://onepunchman.fandom.com/es/wiki/Sangre_Pura')\n",
	"Segador de Rostros = URIRef('https://onepunchman.fandom.com/es/wiki/Segador_de_Rostros')\n",
	"Showerhead= URIRef('https://onepunchman.fandom.com/es/wiki/Showerhead')\n",
	"Super Ratón = URIRef('https://onepunchman.fandom.com/es/wiki/Super_Ratón')\n",
	"Los Tres Cuervos = URIRef('https://onepunchman.fandom.com/es/wiki/Los_Tres_Cuervos')\n",
	"Unicuerno = URIRef('https://onepunchman.fandom.com/es/wiki/Unicuerno')\n",
	"\n",
	"##Nivel Tigre\n",
	"Destrochloridium = URIRef('https://onepunchman.fandom.com/es/wiki/Destrochloridium')\n",
	"Electric Catfish Man = URIRef('https://onepunchman.fandom.com/es/wiki/Electric_Catfish_Man')\n",
	"Gorila Marshall = URIRef('https://onepunchman.fandom.com/es/wiki/Gorila_Marshall')\n",
	"Mad Doctor Fish = URIRef('https://onepunchman.fandom.com/es/wiki/Mad_Doctor_Fish')\n",
	"Maiko Plasma = URIRef('https://onepunchman.fandom.com/es/wiki/Maiko_Plasma')\n",
	"Sludge Jellyfish = URIRef('https://onepunchman.fandom.com/es/wiki/Sludge_Jellyfish')"

   ]
  },
  {
   "cell_type": "code",
   "execution_count": 10,
   "id": "f90b4707",
   "metadata": {},
   "outputs": [],
   "source": [
    "n = Namespace('https://onepunchman.fandom.com/')"
   ]
  },
  {
   "cell_type": "code",
   "execution_count": 11,
   "id": "0790993f",
   "metadata": {},
   "outputs": [],
   "source": [
    "####Caracteristicas\n",
    "\n",
    "name = URIRef('characteristics:name')\n",
    "classs = URIRef('characteristics:class')\n",
    "rank = URIRef('characteristics:rank')\n",
    "age = URIRef('characteristics:age')\n",
    "alias = URIRef('characteristics:alias')"
   ]
  },
  {
   "cell_type": "code",
   "execution_count": 12,
   "id": "8ad3d9cf",
   "metadata": {},
   "outputs": [],
   "source": [
    "#### Personal de la Asociación de Héroes\n",
    "agoni = URIRef('https://onepunchman.fandom.com/es/wiki/Agoni')\n",
    "trabajadorBarbado = URIRef('https://onepunchman.fandom.com/es/wiki/Trabajador_Barbado')\n",
    "trabajadorConGafas = URIRef('https://onepunchman.fandom.com/es/wiki/Trabajador_con_Gafas')\n",
    "operadoraRamaC = URIRef('https://onepunchman.fandom.com/es/wiki/Operadora_de_la_Rama_C')\n",
    "trabajadorRamaC = URIRef('https://onepunchman.fandom.com/es/wiki/Trabajador_de_la_Rama_C')\n",
    "operadoraDeConsola = URIRef('https://onepunchman.fandom.com/es/wiki/Operadora_de_Consola')\n",
    "guiches = URIRef('https://onepunchman.fandom.com/es/wiki/Guiches')\n",
    "operadoraRamaPrincipal = URIRef('https://onepunchman.fandom.com/es/wiki/Operadora_de_la_Rama_Principal')\n",
    "mcCoy = URIRef('https://onepunchman.fandom.com/es/wiki/McCoy')\n",
    "narinko = URIRef('https://onepunchman.fandom.com/es/wiki/Narinki')\n",
    "sekingar = URIRef('https://onepunchman.fandom.com/es/wiki/Sekingar')\n",
    "chicaRefugioSiete = URIRef('https://onepunchman.fandom.com/es/wiki/Chica_del_Refugio_N%C2%BA7')\n",
    "sitch = URIRef('https://onepunchman.fandom.com/es/wiki/Sitch')\n",
    "zeimeet = URIRef('https://onepunchman.fandom.com/es/wiki/Zeimeet')\n",
    "operadoraRamaZ = URIRef('https://onepunchman.fandom.com/es/wiki/Operadora_de_la_Rama_Z')\n",
    "chicaComiteRamaZ = URIRef('https://onepunchman.fandom.com/es/wiki/Chica_del_comit%C3%A9_de_la_Rama_Z')\n",
    "chicaComiteEspecial = URIRef('https://onepunchman.fandom.com/es/wiki/Chica_del_comit%C3%A9_especial')\n",
    "\n",
    "#### Ex Heroes conocidos\n",
    "allBackMan = URIRef('https://onepunchman.fandom.com/es/wiki/All_Back-Man')\n",
    "serialBomber = URIRef('https://onepunchman.fandom.com/es/wiki/Serial_Bomber')\n",
    "graduadoDePostgrado = URIRef('https://onepunchman.fandom.com/es/wiki/Graduado_de_Posgrado')\n",
    "tanktopVegetarian = URIRef('https://onepunchman.fandom.com/es/wiki/Tanktop_Vegetarian')"
   ]
  }
 ],
 "metadata": {
  "celltoolbar": "Raw Cell Format",
  "kernelspec": {
   "display_name": "Python 3",
   "language": "python",
   "name": "python3"
  },
  "language_info": {
   "codemirror_mode": {
    "name": "ipython",
    "version": 3
   },
   "file_extension": ".py",
   "mimetype": "text/x-python",
   "name": "python",
   "nbconvert_exporter": "python",
   "pygments_lexer": "ipython3",
   "version": "3.9.1"
  }
 },
 "nbformat": 4,
 "nbformat_minor": 5
}

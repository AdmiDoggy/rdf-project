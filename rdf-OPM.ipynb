{
 "cells": [
  {
   "cell_type": "markdown",
   "id": "d8e01d01",
   "metadata": {},
   "source": [
    "# ONE PUNCH MAN"
   ]
  },
  {
   "cell_type": "code",
   "execution_count": 5,
   "id": "ea57ec14",
   "metadata": {
    "scrolled": true
   },
   "outputs": [
    {
     "name": "stdout",
     "output_type": "stream",
     "text": [
      "Requirement already satisfied: rdflib in c:\\programdata\\miniconda3\\lib\\site-packages (5.0.0)\n",
      "Requirement already satisfied: pyparsing in c:\\programdata\\miniconda3\\lib\\site-packages (from rdflib) (2.4.7)\n",
      "Requirement already satisfied: six in c:\\programdata\\miniconda3\\lib\\site-packages (from rdflib) (1.15.0)\n",
      "Requirement already satisfied: isodate in c:\\programdata\\miniconda3\\lib\\site-packages (from rdflib) (0.6.0)\n"
     ]
    }
   ],
   "source": [
    "!pip install rdflib"
   ]
  },
  {
   "cell_type": "code",
   "execution_count": 6,
   "id": "b52d2679",
   "metadata": {},
   "outputs": [],
   "source": [
    "from rdflib import URIRef, BNode, Literal, Graph\n",
    "from rdflib import Namespace\n",
    "from rdflib.namespace import RDF, RDFS"
   ]
  },
  {
   "cell_type": "markdown",
   "id": "6c45ac57",
   "metadata": {},
   "source": [
    "# Modelado del Grafo"
   ]
  },
  {
   "cell_type": "markdown",
   "id": "6fcc1222",
   "metadata": {},
   "source": [
    "Ingresando URIs de los sujetos"
   ]
  },
  {
   "cell_type": "code",
   "execution_count": 7,
   "id": "b5fabe9b",
   "metadata": {},
   "outputs": [],
   "source": [
    "#####Heroes\n",
    "###Asociación de Héroes\n",
    "##Clase S\n",
    "blast = URIRef('https://onepunchman.fandom.com/es/wiki/Blast')\n",
    "tatsumaki = URIRef('https://onepunchman.fandom.com/es/wiki/Tatsumaki')\n",
    "bang = URIRef('https://onepunchman.fandom.com/es/wiki/Bang')\n",
    "kamikaze = URIRef('https://onepunchman.fandom.com/es/wiki/Kamikaze')\n",
    "kidEmperor = URIRef('https://onepunchman.fandom.com/es/wiki/Kid_Emperor')\n",
    "metalKnight = URIRef('https://onepunchman.fandom.com/es/wiki/Bofoi')\n",
    "king = URIRef('https://onepunchman.fandom.com/es/wiki/King')\n",
    "zombieman = URIRef('https://onepunchman.fandom.com/es/wiki/Zombieman')\n",
    "driveKnight = URIRef('https://onepunchman.fandom.com/es/wiki/Drive_Knight')\n",
    "pigGod = URIRef('https://onepunchman.fandom.com/es/wiki/Pig_God')\n",
    "darkshine = URIRef('https://onepunchman.fandom.com/es/wiki/Superalloy_Darkshine')\n",
    "watchdog = URIRef('https://onepunchman.fandom.com/es/wiki/Watchdog_Man')\n",
    "flashy = URIRef('https://onepunchman.fandom.com/es/wiki/Flashy_Flash')\n",
    "genos = URIRef('https://onepunchman.fandom.com/es/wiki/Genos')\n",
    "bad = URIRef('https://onepunchman.fandom.com/es/wiki/Bad')\n",
    "tanktop = URIRef('https://onepunchman.fandom.com/es/wiki/Tanktop_Master')\n",
    "lindolindo = URIRef('https://onepunchman.fandom.com/es/wiki/Prisionero_Lindo-Lindo')\n",
    "\n",
    "##Clase A\n",
    "amai = URIRef('https://onepunchman.fandom.com/es/wiki/Amai_Mask')\n",
    "iaian = URIRef('https://onepunchman.fandom.com/es/wiki/Iaian')\n",
    "bushidrill = URIRef('https://onepunchman.fandom.com/es/wiki/Bushidrill')\n",
    "fundoshi = URIRef('https://onepunchman.fandom.com/es/wiki/Heavy_Tank_Fundoshi')\n",
    "blueFire = URIRef('https://onepunchman.fandom.com/es/wiki/Blue_Fire')\n",
    "gatling = URIRef('https://onepunchman.fandom.com/es/wiki/Death_Gatling')\n",
    "stinger = URIRef('https://onepunchman.fandom.com/es/wiki/Stinger')\n",
    "twinTail = URIRef('https://onepunchman.fandom.com/es/wiki/Twin_Tail')\n",
    "filosofo = URIRef('https://onepunchman.fandom.com/es/wiki/Gran_Filósofo')\n",
    "butterfly = URIRef('https://onepunchman.fandom.com/es/wiki/Butterfly_DX')\n",
    "genji = URIRef('https://onepunchman.fandom.com/es/wiki/Genji')\n",
    "maxx = URIRef('https://onepunchman.fandom.com/es/wiki/Max')\n",
    "oneShooter = URIRef('https://onepunchman.fandom.com/es/wiki/One_Shooter')\n",
    "green = URIRef('https://onepunchman.fandom.com/es/wiki/Green')\n",
    "eyebroll = URIRef('https://onepunchman.fandom.com/es/wiki/Crescent_Eyebroll')\n",
    "\n",
    "##Clase B\n",
    "fubuki = URIRef('https://onepunchman.fandom.com/es/wiki/Fubuki')\n",
    "pestañas = URIRef('https://onepunchman.fandom.com/es/wiki/Pestañas')\n",
    "mono = URIRef('https://onepunchman.fandom.com/es/wiki/Mono_de_Montaña')\n",
    "saitama = URIRef('https://onepunchman.fandom.com/es/wiki/Saitama')\n",
    "wildHorn = URIRef('https://onepunchman.fandom.com/es/wiki/Wild_Horn')\n",
    "gafas = URIRef('https://onepunchman.fandom.com/es/wiki/Gafas')\n",
    "avispon = URIRef('https://onepunchman.fandom.com/es/wiki/Avispón_Rosa')\n",
    "smellMaster = URIRef('https://onepunchman.fandom.com/es/wiki/Smell_Master')\n",
    "reclusamurai = URIRef('https://onepunchman.fandom.com/es/wiki/Reclusamurai')\n",
    "gungun = URIRef('https://onepunchman.fandom.com/es/wiki/Gun_Gun')\n",
    "carnicero = URIRef('https://onepunchman.fandom.com/es/wiki/Carnicero')\n",
    "niceGuy = URIRef('https://onepunchman.fandom.com/es/wiki/Jet_Nice_Guy')\n",
    "cuchillaOscura = URIRef('https://onepunchman.fandom.com/es/wiki/Cuchilla_Oscura')\n",
    "needleStar = URIRef('https://onepunchman.fandom.com/es/wiki/Needle_Star')\n",
    "piko = URIRef('https://onepunchman.fandom.com/es/wiki/Piko')\n",
    "\n",
    "##Clase C\n",
    "satoru = URIRef('https://onepunchman.fandom.com/es/wiki/Satoru')\n",
    "biningShell = URIRef('https://onepunchman.fandom.com/es/wiki/Strange_Binding_Shell')\n",
    "tiger = URIRef('https://onepunchman.fandom.com/es/wiki/Tanktop_Tiger')\n",
    "dPad = URIRef('https://onepunchman.fandom.com/es/wiki/D-Pad')\n",
    "tirantes = URIRef('https://onepunchman.fandom.com/es/wiki/Tirantes_Fúnebres')\n",
    "luchadorComida = URIRef('https://onepunchman.fandom.com/es/wiki/Luchador_de_Comida_Futoshi')\n",
    "hombreBateria = URIRef('https://onepunchman.fandom.com/es/wiki/Hombre_Batería')\n",
    "redMuffler = URIRef('https://onepunchman.fandom.com/es/wiki/Red_Muffler')\n",
    "recepcionista = URIRef('https://onepunchman.fandom.com/es/wiki/Recepcionista_Blindado')\n",
    "gearsper = URIRef('https://onepunchman.fandom.com/es/wiki/Gearsper')\n",
    "vaquero = URIRef('https://onepunchman.fandom.com/es/wiki/Vaquero_con_Máscara_de_Gas')\n",
    "octavaTumba = URIRef('https://onepunchman.fandom.com/es/wiki/Octava_Tumba')\n",
    "ecoloG = URIRef('https://onepunchman.fandom.com/es/wiki/Ecolo_G')\n",
    "monocross = URIRef('https://onepunchman.fandom.com/es/wiki/Monocross')\n",
    "hombreDinamita = URIRef('https://onepunchman.fandom.com/es/wiki/Hombre_Dinamita')"
   ]
  },
  {
   "cell_type": "code",
   "execution_count": 8,
   "id": "2e73dc26",
   "metadata": {},
   "outputs": [],
   "source": [
    "n = Namespace('https://onepunchman.fandom.com/')"
   ]
  },
  {
   "cell_type": "code",
   "execution_count": 9,
   "id": "cb10b162",
   "metadata": {},
   "outputs": [],
   "source": [
    "####Caracteristicas\n",
    "\n",
    "name = URIRef('characteristics:name')\n",
    "categoria = URIRef('characteristics:category')\n",
    "rank = URIRef('characteristics:rank')\n",
    "edad = URIRef('characteristics:age')\n",
    "alias = URIRef('characteristics:alias')\n",
    "organizacion = URIRef('characteristics:organization')\n",
    "grupo = URIRef('characteristics:group')"
   ]
  },
  {
   "cell_type": "code",
   "execution_count": 10,
   "id": "974301b3",
   "metadata": {},
   "outputs": [],
   "source": [
    "#### Personal de la Asociación de Héroes\n",
    "agoni = URIRef('https://onepunchman.fandom.com/es/wiki/Agoni')\n",
    "trabajadorBarbado = URIRef('https://onepunchman.fandom.com/es/wiki/Trabajador_Barbado')\n",
    "trabajadorConGafas = URIRef('https://onepunchman.fandom.com/es/wiki/Trabajador_con_Gafas')\n",
    "operadoraRamaC = URIRef('https://onepunchman.fandom.com/es/wiki/Operadora_de_la_Rama_C')\n",
    "trabajadorRamaC = URIRef('https://onepunchman.fandom.com/es/wiki/Trabajador_de_la_Rama_C')\n",
    "operadoraDeConsola = URIRef('https://onepunchman.fandom.com/es/wiki/Operadora_de_Consola')\n",
    "guiches = URIRef('https://onepunchman.fandom.com/es/wiki/Guiches')\n",
    "operadoraRamaPrincipal = URIRef('https://onepunchman.fandom.com/es/wiki/Operadora_de_la_Rama_Principal')\n",
    "mcCoy = URIRef('https://onepunchman.fandom.com/es/wiki/McCoy')\n",
    "narinko = URIRef('https://onepunchman.fandom.com/es/wiki/Narinki')\n",
    "sekingar = URIRef('https://onepunchman.fandom.com/es/wiki/Sekingar')\n",
    "chicaRefugioSiete = URIRef('https://onepunchman.fandom.com/es/wiki/Chica_del_Refugio_N%C2%BA7')\n",
    "sitch = URIRef('https://onepunchman.fandom.com/es/wiki/Sitch')\n",
    "zeimeet = URIRef('https://onepunchman.fandom.com/es/wiki/Zeimeet')\n",
    "operadoraRamaZ = URIRef('https://onepunchman.fandom.com/es/wiki/Operadora_de_la_Rama_Z')\n",
    "chicaComiteRamaZ = URIRef('https://onepunchman.fandom.com/es/wiki/Chica_del_comit%C3%A9_de_la_Rama_Z')\n",
    "chicaComiteEspecial = URIRef('https://onepunchman.fandom.com/es/wiki/Chica_del_comit%C3%A9_especial')"
   ]
  },
  {
   "cell_type": "code",
   "execution_count": 11,
   "id": "f5fbe998",
   "metadata": {},
   "outputs": [],
   "source": [
    "###Clase Desconocida\n",
    "\n",
    "tanktopRockabilly = URIRef('https://onepunchman.fandom.com/es/wiki/Tanktop_Rockabilly')\n",
    "tanktopGirl = URIRef('https://onepunchman.fandom.com/es/wiki/Tanktop_Girl')\n",
    "tanktopRacer = URIRef('https://onepunchman.fandom.com/es/wiki/Tanktop_Racer')\n",
    "tanktopHatter = URIRef('https://onepunchman.fandom.com/es/wiki/Tanktop_Hatter')\n",
    "tanktopJungle = URIRef('https://onepunchman.fandom.com/es/wiki/Tanktop_Jungle')\n",
    "tanktopSwimmer = URIRef('https://onepunchman.fandom.com/es/wiki/Tanktop_Swimmer')\n",
    "tanktopMask = URIRef('https://onepunchman.fandom.com/es/wiki/Tanktop_Mask')\n",
    "pandaman = URIRef('https://onepunchman.fandom.com/es/wiki/Pandaman')\n",
    "\n",
    "#### Ex Heroes conocidos\n",
    "allBackMan = URIRef('https://onepunchman.fandom.com/es/wiki/All_Back-Man')\n",
    "serialBomber = URIRef('https://onepunchman.fandom.com/es/wiki/Serial_Bomber')\n",
    "graduadoDePostgrado = URIRef('https://onepunchman.fandom.com/es/wiki/Graduado_de_Posgrado')\n",
    "tanktopVegetarian = URIRef('https://onepunchman.fandom.com/es/wiki/Tanktop_Vegetarian')"
   ]
  },
  {
   "cell_type": "code",
   "execution_count": 12,
   "id": "452616b3",
   "metadata": {},
   "outputs": [],
   "source": [
    "#####Asociación de Monstruos\n",
    "\n",
    "##Superiores\n",
    "\n",
    "#Líderes\n",
    "Psykos = URIRef('https://onepunchman.fandom.com/es/wiki/Psykos')\n",
    "Orochi = URIRef('https://onepunchman.fandom.com/es/wiki/Orochi')\n",
    "\n",
    "#Ejecutivos\n",
    "AguaNaturalMalvada = URIRef('https://onepunchman.fandom.com/es/wiki/Agua_Natural_Malvada')\n",
    "BlackSperm = URIRef('https://onepunchman.fandom.com/es/wiki/Black_Sperm')\n",
    "CiempiésAnciano = URIRef('https://onepunchman.fandom.com/es/wiki/Ciempiés_Anciano')\n",
    "EmperadorsinHogar = URIRef('https://onepunchman.fandom.com/es/wiki/Emperador_sin_Hogar')\n",
    "Encias = URIRef('https://onepunchman.fandom.com/es/wiki/Encias')\n",
    "FuhrerUgly = URIRef('https://onepunchman.fandom.com/es/wiki/Fuhrer_Ugly')\n",
    "ouketsu = URIRef('https://onepunchman.fandom.com/es/wiki/Gouketsu')\n",
    "Nyan = URIRef('https://onepunchman.fandom.com/es/wiki/Nyan')\n",
    "OvergrownRover = URIRef('https://onepunchman.fandom.com/es/wiki/Overgrown_Rover')\n",
    "\n",
    "\n",
    "##Subordinados\n",
    "\n",
    "#Nivel Dragon\n",
    "Bakuzan = URIRef('https://onepunchman.fandom.com/es/wiki/Bakuzan')\n",
    "GaleWind = URIRef('https://onepunchman.fandom.com/es/wiki/Gale_Wind')\n",
    "HellfireFlame = URIRef('https://onepunchman.fandom.com/es/wiki/Hellfire_Flame')\n",
    "PhoenixMan = URIRef('https://onepunchman.fandom.com/es/wiki/Phoenix_Man')\n",
    "\n",
    "#Nivel Ogro\n",
    "AbrazadorGratuito = URIRef('https://onepunchman.fandom.com/es/wiki/Abrazador_Gratuito')\n",
    "Bakuma = URIRef('https://onepunchman.fandom.com/es/wiki/Bakuma')\n",
    "DiosInsecto = URIRef('https://onepunchman.fandom.com/es/wiki/Dios_Insecto')\n",
    "CabelloLargoDemoniaco = URIRef('https://onepunchman.fandom.com/es/wiki/Cabello_Largo_Demoniaco')\n",
    "CiempiésMayor = URIRef('https://onepunchman.fandom.com/es/wiki/Ciempiés_Mayor')\n",
    "CucarachaAvispada = URIRef('https://onepunchman.fandom.com/es/wiki/Cucaracha_Avispada')\n",
    "DoS = URIRef('https://onepunchman.fandom.com/es/wiki/Do-S')\n",
    "yesight = URIRef('https://onepunchman.fandom.com/es/wiki/Eyesight')\n",
    "FistFightDjinn = URIRef('https://onepunchman.fandom.com/es/wiki/Fist_Fight_Djinn')\n",
    "G5 = URIRef('https://onepunchman.fandom.com/es/wiki/G5')\n",
    "heGreatFoodTub = URIRef('https://onepunchman.fandom.com/es/wiki/The_Great_Food_Tub')\n",
    "PulpoDeCienOjos = URIRef('https://onepunchman.fandom.com/es/wiki/Pulpo_de_Cien_Ojos')\n",
    "Rafflesidon = URIRef('https://onepunchman.fandom.com/es/wiki/Rafflesidon')\n",
    "RhinoWrestler= URIRef('https://onepunchman.fandom.com/es/wiki/Rhino_Wrestler')\n",
    "RoyalRipper = URIRef('https://onepunchman.fandom.com/es/wiki/Royal_Ripper')\n",
    "SangrePura = URIRef('https://onepunchman.fandom.com/es/wiki/Sangre_Pura')\n",
    "SegadorDeRostros = URIRef('https://onepunchman.fandom.com/es/wiki/Segador_de_Rostros')\n",
    "Showerhead= URIRef('https://onepunchman.fandom.com/es/wiki/Showerhead')\n",
    "SuperRatón = URIRef('https://onepunchman.fandom.com/es/wiki/Super_Ratón')\n",
    "LosTresCuervos = URIRef('https://onepunchman.fandom.com/es/wiki/Los_Tres_Cuervos')\n",
    "Unicuerno = URIRef('https://onepunchman.fandom.com/es/wiki/Unicuerno')\n",
    "\n",
    "#Nivel Tigre\n",
    "Destrochloridium = URIRef('https://onepunchman.fandom.com/es/wiki/Destrochloridium')\n",
    "ElectricCatfishMan = URIRef('https://onepunchman.fandom.com/es/wiki/Electric_Catfish_Man')\n",
    "GorilaMarshall = URIRef('https://onepunchman.fandom.com/es/wiki/Gorila_Marshall')\n",
    "MadDoctorFish = URIRef('https://onepunchman.fandom.com/es/wiki/Mad_Doctor_Fish')\n",
    "MaikoPlasma = URIRef('https://onepunchman.fandom.com/es/wiki/Maiko_Plasma')\n",
    "SludgeJellyfish = URIRef('https://onepunchman.fandom.com/es/wiki/Sludge_Jellyfish')"
   ]
  },
  {
   "cell_type": "code",
   "execution_count": 13,
   "id": "8cc7280a",
   "metadata": {},
   "outputs": [],
   "source": [
    "#### Aliens ( ladrones de materia oscura)\n",
    "\n",
    "##Líder\n",
    "boros = URIRef('https://onepunchman.fandom.com/es/wiki/Boros')\n",
    "\n",
    "##Fuerza Élite\n",
    "geryuganshoop = URIRef('https://onepunchman.fandom.com/es/wiki/Geryuganshoop')\n",
    "melzargard = URIRef('https://onepunchman.fandom.com/es/wiki/Melzargard')\n",
    "groribas = URIRef('https://onepunchman.fandom.com/es/wiki/Groribas')"
   ]
  },
  {
   "cell_type": "code",
   "execution_count": null,
   "id": "64e42735",
   "metadata": {},
   "outputs": [],
   "source": [
    "#### Casa de la evolución\n",
    "\n",
    "asuraKabuto = URIRef('https://onepunchman.fandom.com/es/wiki/Asura_Kabuto')\n",
    "beastKing = URIRef('https://onepunchman.fandom.com/es/wiki/Beast_King')\n",
    "gorilaBlindado = URIRef('https://onepunchman.fandom.com/es/wiki/Gorila_Blindado')\n",
    "chicaMosquito= URIRef('https://onepunchman.fandom.com/es/wiki/Chica_Mosquito')\n",
    "mantis = URIRef('https://onepunchman.fandom.com/es/wiki/Mantis')\n",
    "groundDragon = URIRef('https://onepunchman.fandom.com/es/wiki/Ground_Dragon')\n",
    "slugerous = URIRef('https://onepunchman.fandom.com/es/wiki/Slugerous')\n",
    "rana = URIRef('https://onepunchman.fandom.com/es/wiki/Hombre_Rana')"
   ]
  },
  {
   "cell_type": "code",
   "execution_count": null,
   "id": "72062b16",
   "metadata": {},
   "outputs": [],
   "source": [
    "#### Habitantes de las profundidades\n",
    "\n",
    "underlordDream = URIRef('https://onepunchman.fandom.com/es/wiki/Underlord')\n",
    "underlord = URIRef('https://onepunchman.fandom.com/es/wiki/Underlord')\n",
    "habitantesDeLasProfundidadesDream = URIRef('https://onepunchman.fandom.com/es/wiki/Habitantes_de_las_Profundidades')\n",
    "habitantesDeLasProfundidades = URIRef('https://onepunchman.fandom.com/es/wiki/Habitantes_de_las_Profundidades')"
   ]
  },
  {
   "cell_type": "code",
   "execution_count": null,
   "id": "b039571f",
   "metadata": {},
   "outputs": [],
   "source": [
    "#### Seafolk\n",
    "\n",
    "reyDelMarProfundo = URIRef('https://onepunchman.fandom.com/es/wiki/Rey_del_Mar_Profundo')\n",
    "mensajeroSeafolk = URIRef('https://onepunchman.fandom.com/es/wiki/Mensajero_Seafolk')\n",
    "lordGranBlanco = URIRef('https://onepunchman.fandom.com/es/wiki/Lord_Gran_Blanco')\n",
    "marinos = URIRef('https://onepunchman.fandom.com/es/wiki/Seafolk')\n",
    "anguilaDeUrna = URIRef('https://onepunchman.fandom.com/es/wiki/Anguila_de_urna')\n",
    "\n",
    "#### Skyfolk\n",
    "\n",
    "skyKing = URIRef('https://onepunchman.fandom.com/es/wiki/Sky_King')\n",
    "aguila = URIRef('https://onepunchman.fandom.com/es/wiki/%C3%81guila')\n",
    "halcon = URIRef('https://onepunchman.fandom.com/es/wiki/Halc%C3%B3n')\n",
    "gavilan = URIRef('https://onepunchman.fandom.com/es/wiki/Gavil%C3%A1n')\n",
    "cometa = URIRef('https://onepunchman.fandom.com/es/wiki/Cometa')\n",
    "\n",
    "#### Dinofolk\n",
    "\n",
    "reyAntiguo = URIRef('https://onepunchman.fandom.com/es/wiki/Rey_Antiguo')"
   ]
  },
  {
   "cell_type": "code",
   "execution_count": null,
   "id": "d127e3bd",
   "metadata": {},
   "outputs": [],
   "source": [
    "#### Monstruos Sin Afiliacion\n",
    "\n",
    "kanirante = URIRef('https://onepunchman.fandom.com/es/wiki/Kanirante')\n",
    "vaccineMan = URIRef('https://onepunchman.fandom.com/es/wiki/Vaccine_Man')\n",
    "marugori = URIRef('https://onepunchman.fandom.com/es/wiki/Marugori')\n",
    "bariCustom = URIRef('https://onepunchman.fandom.com/es/wiki/BariCustom_YO649Z_Mk._II')\n",
    "kombuInfinito= URIRef('https://onepunchman.fandom.com/es/wiki/Kombu_Infinito')\n",
    "gusanoDeTierra = URIRef('https://onepunchman.fandom.com/es/wiki/Gusano_de_Tierra')\n",
    "crazyBrownBear = URIRef('https://onepunchman.fandom.com/es/wiki/Crazy_Brown_Bear')\n",
    "lordOfMountains = URIRef('https://onepunchman.fandom.com/es/wiki/Lord_of_Mountains')\n",
    "larvaMagiciada = URIRef('https://onepunchman.fandom.com/es/wiki/Larva_Magiciada_de_170_000-A%C3%B1os')\n",
    "cigarraAdulta = URIRef('https://onepunchman.fandom.com/es/wiki/Cigarra_Adulta_de_170_000-A%C3%B1os')\n",
    "demonioVentilador = URIRef('https://onepunchman.fandom.com/es/wiki/Demonio_Ventilador')\n",
    "piggyBacon = URIRef('https://onepunchman.fandom.com/es/wiki/Piggy_Bancon')\n",
    "encarnacionDelCordonDelCableDeLuz= URIRef('https://onepunchman.fandom.com/es/wiki/Encarnaci%C3%B3n_del_Cord%C3%B3n_del_cable_de_Luz')\n",
    "surpriseAttackPlum = URIRef('https://onepunchman.fandom.com/es/wiki/Surprise-Attack_Plum')\n",
    "grizzlyNyah = URIRef('https://onepunchman.fandom.com/es/wiki/Grizzly_Nyah')\n",
    "gameBerus = URIRef('https://onepunchman.fandom.com/es/wiki/Game-Berus')\n",
    "octopusClawMan = URIRef('https://onepunchman.fandom.com/es/wiki/Octopus_Claw_Man')\n",
    "suppon = URIRef('https://onepunchman.fandom.com/es/wiki/Suppon')\n",
    "cuervoGigante = URIRef('https://onepunchman.fandom.com/es/wiki/Cuervo_Gigante')\n",
    "tongueStretcher= URIRef('https://onepunchman.fandom.com/es/wiki/Tongue_Stretcher')\n",
    "aranhaSaltarina = URIRef('https://onepunchman.fandom.com/es/wiki/Ara%C3%B1a_Saltarina')\n",
    "hombreDeNieveGigante = URIRef('https://onepunchman.fandom.com/es/wiki/Hombre_de_Nieve_Gigante')\n",
    "himawari = URIRef('https://onepunchman.fandom.com/es/wiki/Himawari')\n",
    "hotDog= URIRef('https://onepunchman.fandom.com/es/wiki/Hot-Dog')\n",
    "gigakigan = URIRef('https://onepunchman.fandom.com/es/wiki/Gigakigan')\n",
    "delorean = URIRef('https://onepunchman.fandom.com/es/wiki/Delorean')\n",
    "fantasmaDeTresOjos = URIRef('https://onepunchman.fandom.com/es/wiki/Fantasma_de_los_Tres_Ojos?action=edit&redlink=1')\n",
    "scaledon = URIRef('https://onepunchman.fandom.com/es/wiki/Scaledon?action=edit&redlink=1')\n",
    "esmalte = URIRef('https://onepunchman.fandom.com/es/wiki/Esmalte')\n",
    "tostadoNegro = URIRef('https://onepunchman.fandom.com/es/wiki/Tostado_Negro?action=edit&redlink=1')\n",
    "machoDaikon = URIRef('https://onepunchman.fandom.com/es/wiki/Macho_Daikon')\n",
    "broteMarchito = URIRef('https://onepunchman.fandom.com/es/wiki/Brote_Marchito')\n",
    "ranaToroPeleadora = URIRef('https://onepunchman.fandom.com/es/wiki/Rana-Toro_Peleadora?action=edit&redlink=1')"
   ]
  },
  {
   "cell_type": "code",
   "execution_count": 14,
   "id": "60bddef1",
   "metadata": {},
   "outputs": [],
   "source": [
    "\n",
    "## Técnicas\n",
    "\n",
    "#Cuerpo a Cuerpo\n",
    "ArteAsesinoDelInfiernoOscuro = URIRef('https://onepunchman.fandom.com/es/wiki/Arte_Asesino_del_Infierno_Oscuro')\n",
    "GolpeMortal = URIRef('https://onepunchman.fandom.com/es/wiki/Golpe_Mortal')\n",
    "EstiloDelCaminoAspero = URIRef('https://onepunchman.fandom.com/es/wiki/Estilo_del_Camino_%C3%81spero')\n",
    "GolpeDeCabezaGrave = URIRef('https://onepunchman.fandom.com/es/wiki/Golpe_de_Cabeza_Grave')\n",
    "GolpeGrave = URIRef('https://onepunchman.fandom.com/es/wiki/Golpe_Grave')\n",
    "Ninjutsu = URIRef('https://onepunchman.fandom.com/es/wiki/Ninjutsu')\n",
    "PuñoAsesinoDelMonstruoDiosDeLaCalamidad = URIRef('https://onepunchman.fandom.com/es/wiki/Pu%C3%B1o_Asesino_del_Monstruo_Dios_de_la_Calamidad')\n",
    "PuñoDeAguaQueFluyeRocaAplastante = URIRef('https://onepunchman.fandom.com/es/wiki/Pu%C3%B1o_de_Agua_que_fluye_Roca_Aplastante')\n",
    "PuñoDeCorteDeHierroTorbellino = URIRef('https://onepunchman.fandom.com/es/wiki/Pu%C3%B1o_de_Corte_de_Hierro_Torbellino')\n",
    "PuñoVacio = URIRef('https://onepunchman.fandom.com/es/wiki/Pu%C3%B1o_Vac%C3%ADo')\n",
    "SuperalloyBazooka = URIRef('https://onepunchman.fandom.com/es/wiki/Superalloy_Bazooka')\n",
    "\n",
    "#ProyeccionDeEnergia\n",
    "CañónDeEstrellaQueColapsa = URIRef('https://onepunchman.fandom.com/es/wiki/Ca%C3%B1%C3%B3n_de_Estrella_que_Colapsa')\n",
    "\n",
    "#Tecnica Ofensiva\n",
    "CorteAtomico = URIRef('https://onepunchman.fandom.com/es/wiki/Corte_At%C3%B3mico')\n",
    "DestelloRayo = URIRef('https://onepunchman.fandom.com/es/wiki/Destello_Rayo')\n",
    "GolpeAmetralladora = URIRef('https://onepunchman.fandom.com/es/wiki/Golpe_Ametralladora')\n",
    "GolpeLeon = URIRef('https://onepunchman.fandom.com/es/wiki/Golpe_Le%C3%B3n')\n",
    "GolpesNormalesConsecutivos = URIRef('https://onepunchman.fandom.com/es/wiki/Golpes_Normales_Consecutivos')\n",
    "Incinerar = URIRef('https://onepunchman.fandom.com/es/wiki/Incinerar')\n",
    "\n",
    "#Combate a Distancia\n",
    "SaltosLateralesGraves = URIRef('https://onepunchman.fandom.com/es/wiki/Saltos_Laterales_Graves')\n",
    "VolteoDeTablaGrave = URIRef('https://onepunchman.fandom.com/es/wiki/Volteo_de_Tabla_Grave')\n"
   ]
  },
  {
   "cell_type": "code",
   "execution_count": 15,
   "id": "7f0ac1ee",
   "metadata": {},
   "outputs": [],
   "source": [
    "g= Graph()"
   ]
  },
  {
   "cell_type": "markdown",
   "id": "3131826a",
   "metadata": {},
   "source": [
    "### Agregando los tipos de ocupación de los personajes"
   ]
  },
  {
   "cell_type": "code",
   "execution_count": 16,
   "id": "63afcca9",
   "metadata": {},
   "outputs": [],
   "source": [
    "heroes = URIRef('https://onepunchman.fandom.com/es/wiki/Personajes#H.C3.A9roes')\n",
    "villanos = URIRef('https://onepunchman.fandom.com/es/wiki/Personajes#Villanos')\n",
    "otros = URIRef('https://onepunchman.fandom.com/es/wiki/Personajes#Otros')\n",
    "\n",
    "g.add((heroes, RDFS.subClassOf, n.char_class))\n",
    "g.add((villanos, RDFS.subClassOf, n.char_class))\n",
    "g.add((otros, RDFS.subClassOf, n.char_class))\n"
   ]
  },
  {
   "cell_type": "markdown",
   "id": "e4dadf02",
   "metadata": {},
   "source": [
    "### Agregando las subclases de Heroes y Villanos"
   ]
  },
  {
   "cell_type": "code",
   "execution_count": 17,
   "id": "70100629",
   "metadata": {
    "scrolled": true
   },
   "outputs": [
    {
     "name": "stdout",
     "output_type": "stream",
     "text": [
      "<?xml version=\"1.0\" encoding=\"UTF-8\"?>\n",
      "<rdf:RDF\n",
      "   xmlns:rdf=\"http://www.w3.org/1999/02/22-rdf-syntax-ns#\"\n",
      "   xmlns:rdfs=\"http://www.w3.org/2000/01/rdf-schema#\"\n",
      ">\n",
      "  <rdf:Description rdf:about=\"https://onepunchman.fandom.com/es/wiki/Personajes#Otros\">\n",
      "    <rdfs:subClassOf rdf:resource=\"https://onepunchman.fandom.com/char_class\"/>\n",
      "  </rdf:Description>\n",
      "  <rdf:Description rdf:about=\"https://onepunchman.fandom.com/personal\">\n",
      "    <rdfs:subClassOf rdf:resource=\"https://onepunchman.fandom.com/es/wiki/Personajes#H.C3.A9roes\"/>\n",
      "  </rdf:Description>\n",
      "  <rdf:Description rdf:about=\"https://onepunchman.fandom.com/ex_heros\">\n",
      "    <rdfs:subClassOf rdf:resource=\"https://onepunchman.fandom.com/es/wiki/Personajes#H.C3.A9roes\"/>\n",
      "  </rdf:Description>\n",
      "  <rdf:Description rdf:about=\"https://onepunchman.fandom.com/unknown_class\">\n",
      "    <rdfs:subClassOf rdf:resource=\"https://onepunchman.fandom.com/es/wiki/Personajes#H.C3.A9roes\"/>\n",
      "  </rdf:Description>\n",
      "  <rdf:Description rdf:about=\"https://onepunchman.fandom.com/hero_association\">\n",
      "    <rdfs:subClassOf rdf:resource=\"https://onepunchman.fandom.com/es/wiki/Personajes#H.C3.A9roes\"/>\n",
      "  </rdf:Description>\n",
      "  <rdf:Description rdf:about=\"https://onepunchman.fandom.com/es/wiki/Personajes#H.C3.A9roes\">\n",
      "    <rdfs:subClassOf rdf:resource=\"https://onepunchman.fandom.com/char_class\"/>\n",
      "  </rdf:Description>\n",
      "  <rdf:Description rdf:about=\"https://onepunchman.fandom.com/mostruos\">\n",
      "    <rdfs:subClassOf rdf:resource=\"https://onepunchman.fandom.com/es/wiki/Personajes#Villanos\"/>\n",
      "  </rdf:Description>\n",
      "  <rdf:Description rdf:about=\"https://onepunchman.fandom.com/es/wiki/Personajes#Villanos\">\n",
      "    <rdfs:subClassOf rdf:resource=\"https://onepunchman.fandom.com/char_class\"/>\n",
      "  </rdf:Description>\n",
      "  <rdf:Description rdf:about=\"https://onepunchman.fandom.com/aliens\">\n",
      "    <rdfs:subClassOf rdf:resource=\"https://onepunchman.fandom.com/es/wiki/Personajes#Villanos\"/>\n",
      "  </rdf:Description>\n",
      "</rdf:RDF>\n",
      "\n"
     ]
    }
   ],
   "source": [
    "#Héroes\n",
    "g.add((n.hero_association, RDFS.subClassOf, heroes))\n",
    "g.add((n.unknown_class, RDFS.subClassOf, heroes))\n",
    "g.add((n.ex_heros, RDFS.subClassOf, heroes))\n",
    "g.add((n.personal, RDFS.subClassOf, heroes))\n",
    "\n",
    "#Villanos\n",
    "g.add((n.aliens, RDFS.subClassOf, villanos))\n",
    "g.add((n.mostruos, RDFS.subClassOf, villanos))\n",
    "\n",
    "print(g.serialize(format = 'xml').decode('utf8'))"
   ]
  },
  {
   "cell_type": "markdown",
   "id": "b43f3328",
   "metadata": {},
   "source": [
    "### Agregando clases en Asociación de Héroes"
   ]
  },
  {
   "cell_type": "code",
   "execution_count": 18,
   "id": "307759ce",
   "metadata": {},
   "outputs": [],
   "source": [
    "claseS = URIRef('https://onepunchman.fandom.com/es/wiki/Personajes#Clase-S')\n",
    "claseA = URIRef('https://onepunchman.fandom.com/es/wiki/Personajes#Clase-A')\n",
    "claseB = URIRef('https://onepunchman.fandom.com/es/wiki/Personajes#Clase-B')\n",
    "claseC = URIRef('https://onepunchman.fandom.com/es/wiki/Personajes#Clase-C')\n",
    "\n",
    "g.add = ((claseS, RDFS.subClassOf, n.hero_association))\n",
    "g.add = ((claseA, RDFS.subClassOf, n.hero_association))\n",
    "g.add = ((claseB, RDFS.subClassOf, n.hero_association))\n",
    "g.add = ((claseC, RDFS.subClassOf, n.hero_association))"
   ]
  },
  {
   "cell_type": "markdown",
   "id": "ee220fbb",
   "metadata": {},
   "source": [
    "### Agregando clases en Aliens"
   ]
  },
  {
   "cell_type": "code",
   "execution_count": null,
   "id": "509d706c",
   "metadata": {},
   "outputs": [],
   "source": []
  },
  {
   "cell_type": "markdown",
   "id": "d930a139",
   "metadata": {},
   "source": [
    "### Agregando clases en Monstruos"
   ]
  },
  {
   "cell_type": "code",
   "execution_count": null,
   "id": "35ab1d24",
   "metadata": {},
   "outputs": [],
   "source": []
  }
 ],
 "metadata": {
  "celltoolbar": "Raw Cell Format",
  "kernelspec": {
   "display_name": "Python 3",
   "language": "python",
   "name": "python3"
  },
  "language_info": {
   "codemirror_mode": {
    "name": "ipython",
    "version": 3
   },
   "file_extension": ".py",
   "mimetype": "text/x-python",
   "name": "python",
   "nbconvert_exporter": "python",
   "pygments_lexer": "ipython3",
   "version": "3.9.1"
  }
 },
 "nbformat": 4,
 "nbformat_minor": 5
}
